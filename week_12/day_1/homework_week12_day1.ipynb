{
 "cells": [
  {
   "cell_type": "markdown",
   "metadata": {},
   "source": [
    "QUESTION 1"
   ]
  },
  {
   "cell_type": "code",
   "execution_count": 2,
   "metadata": {},
   "outputs": [],
   "source": [
    "shopping = [\"spam\", \"ham\", \"eggs\", \"ham\"]"
   ]
  },
  {
   "cell_type": "code",
   "execution_count": 3,
   "metadata": {},
   "outputs": [
    {
     "data": {
      "text/plain": [
       "'ham'"
      ]
     },
     "execution_count": 3,
     "metadata": {},
     "output_type": "execute_result"
    }
   ],
   "source": [
    "shopping[1]"
   ]
  },
  {
   "cell_type": "code",
   "execution_count": 5,
   "metadata": {},
   "outputs": [
    {
     "data": {
      "text/plain": [
       "['spam', 'ham', 'eggs']"
      ]
     },
     "execution_count": 5,
     "metadata": {},
     "output_type": "execute_result"
    }
   ],
   "source": [
    "shopping[0:3]"
   ]
  },
  {
   "cell_type": "code",
   "execution_count": 6,
   "metadata": {},
   "outputs": [
    {
     "data": {
      "text/plain": [
       "['spam', 'ham', 'eggs']"
      ]
     },
     "execution_count": 6,
     "metadata": {},
     "output_type": "execute_result"
    }
   ],
   "source": [
    "shopping[:-1]"
   ]
  },
  {
   "cell_type": "markdown",
   "metadata": {},
   "source": [
    "QUESTION 2"
   ]
  },
  {
   "cell_type": "code",
   "execution_count": 30,
   "metadata": {},
   "outputs": [
    {
     "data": {
      "text/plain": [
       "['Croy',\n",
       " 'Cumbernauld',\n",
       " 'Falkirk High',\n",
       " 'Linlithgow',\n",
       " 'Livingston',\n",
       " 'Haymarket']"
      ]
     },
     "execution_count": 30,
     "metadata": {},
     "output_type": "execute_result"
    }
   ],
   "source": [
    "stops = [\"Croy\", \"Cumbernauld\", \"Falkirk High\", \"Linlithgow\", \"Livingston\", \"Haymarket\"]\n",
    "stops"
   ]
  },
  {
   "cell_type": "code",
   "execution_count": 31,
   "metadata": {},
   "outputs": [
    {
     "data": {
      "text/plain": [
       "['Croy',\n",
       " 'Cumbernauld',\n",
       " 'Falkirk High',\n",
       " 'Linlithgow',\n",
       " 'Livingston',\n",
       " 'Haymarket',\n",
       " 'Edinburgh Waverley']"
      ]
     },
     "execution_count": 31,
     "metadata": {},
     "output_type": "execute_result"
    }
   ],
   "source": [
    "stops.append(\"Edinburgh Waverley\")\n",
    "stops"
   ]
  },
  {
   "cell_type": "code",
   "execution_count": 32,
   "metadata": {},
   "outputs": [
    {
     "data": {
      "text/plain": [
       "['Queen Street',\n",
       " 'Croy',\n",
       " 'Cumbernauld',\n",
       " 'Falkirk High',\n",
       " 'Linlithgow',\n",
       " 'Livingston',\n",
       " 'Haymarket',\n",
       " 'Edinburgh Waverley']"
      ]
     },
     "execution_count": 32,
     "metadata": {},
     "output_type": "execute_result"
    }
   ],
   "source": [
    "stops.insert(0, \"Queen Street\")\n",
    "stops"
   ]
  },
  {
   "cell_type": "code",
   "execution_count": 33,
   "metadata": {},
   "outputs": [
    {
     "data": {
      "text/plain": [
       "1"
      ]
     },
     "execution_count": 33,
     "metadata": {},
     "output_type": "execute_result"
    }
   ],
   "source": [
    "stops.index(\"Croy\")"
   ]
  },
  {
   "cell_type": "code",
   "execution_count": 34,
   "metadata": {},
   "outputs": [
    {
     "data": {
      "text/plain": [
       "['Queen Street',\n",
       " 'Croy',\n",
       " 'Cumbernauld',\n",
       " 'Falkirk High',\n",
       " 'Polmont',\n",
       " 'Linlithgow',\n",
       " 'Livingston',\n",
       " 'Haymarket',\n",
       " 'Edinburgh Waverley']"
      ]
     },
     "execution_count": 34,
     "metadata": {},
     "output_type": "execute_result"
    }
   ],
   "source": [
    "stops.insert(4, \"Polmont\")\n",
    "stops"
   ]
  },
  {
   "cell_type": "code",
   "execution_count": 35,
   "metadata": {},
   "outputs": [
    {
     "data": {
      "text/plain": [
       "['Queen Street',\n",
       " 'Croy',\n",
       " 'Cumbernauld',\n",
       " 'Falkirk High',\n",
       " 'Polmont',\n",
       " 'Linlithgow',\n",
       " 'Livingston',\n",
       " 'Edinburgh Waverley']"
      ]
     },
     "execution_count": 35,
     "metadata": {},
     "output_type": "execute_result"
    }
   ],
   "source": [
    "stops.remove(\"Haymarket\")\n",
    "stops"
   ]
  },
  {
   "cell_type": "code",
   "execution_count": 36,
   "metadata": {},
   "outputs": [
    {
     "data": {
      "text/plain": [
       "[]"
      ]
     },
     "execution_count": 36,
     "metadata": {},
     "output_type": "execute_result"
    }
   ],
   "source": [
    "stops.clear()\n",
    "stops"
   ]
  },
  {
   "cell_type": "markdown",
   "metadata": {},
   "source": [
    "QUESTION 3 "
   ]
  },
  {
   "cell_type": "code",
   "execution_count": 37,
   "metadata": {},
   "outputs": [
    {
     "data": {
      "text/plain": [
       "{'name': 'Steph', 'age': 31, 'Instructor': True}"
      ]
     },
     "execution_count": 37,
     "metadata": {},
     "output_type": "execute_result"
    }
   ],
   "source": [
    "person = {\"name\": \"Steph\", \"age\": 31, \"Instructor\" : True}\n",
    "person"
   ]
  },
  {
   "cell_type": "code",
   "execution_count": 39,
   "metadata": {},
   "outputs": [
    {
     "data": {
      "text/plain": [
       "dict_keys(['name', 'age', 'Instructor'])"
      ]
     },
     "execution_count": 39,
     "metadata": {},
     "output_type": "execute_result"
    }
   ],
   "source": [
    "person.keys()"
   ]
  },
  {
   "cell_type": "code",
   "execution_count": 40,
   "metadata": {},
   "outputs": [
    {
     "data": {
      "text/plain": [
       "dict_values(['Steph', 31, True])"
      ]
     },
     "execution_count": 40,
     "metadata": {},
     "output_type": "execute_result"
    }
   ],
   "source": [
    "person.values()"
   ]
  },
  {
   "cell_type": "code",
   "execution_count": 41,
   "metadata": {},
   "outputs": [
    {
     "data": {
      "text/plain": [
       "dict_items([('name', 'Steph'), ('age', 31), ('Instructor', True)])"
      ]
     },
     "execution_count": 41,
     "metadata": {},
     "output_type": "execute_result"
    }
   ],
   "source": [
    "person.items()"
   ]
  },
  {
   "cell_type": "code",
   "execution_count": 42,
   "metadata": {},
   "outputs": [
    {
     "data": {
      "text/plain": [
       "'Steph'"
      ]
     },
     "execution_count": 42,
     "metadata": {},
     "output_type": "execute_result"
    }
   ],
   "source": [
    "person[\"name\"]"
   ]
  },
  {
   "cell_type": "code",
   "execution_count": 44,
   "metadata": {},
   "outputs": [
    {
     "data": {
      "text/plain": [
       "{'name': 'Steph', 'age': 31, 'Instructor': True, 'email': 'steph@codeclan.com'}"
      ]
     },
     "execution_count": 44,
     "metadata": {},
     "output_type": "execute_result"
    }
   ],
   "source": [
    "person.update({\"email\" : \"steph@codeclan.com\"})\n",
    "person"
   ]
  },
  {
   "cell_type": "code",
   "execution_count": 46,
   "metadata": {},
   "outputs": [
    {
     "data": {
      "text/plain": [
       "{'name': 'Steph', 'age': 31, 'email': 'steph@codeclan.com'}"
      ]
     },
     "execution_count": 46,
     "metadata": {},
     "output_type": "execute_result"
    }
   ],
   "source": [
    "del person[\"Instructor\"]\n",
    "person"
   ]
  },
  {
   "cell_type": "markdown",
   "metadata": {},
   "source": [
    "QUESTION 4"
   ]
  },
  {
   "cell_type": "code",
   "execution_count": 110,
   "metadata": {},
   "outputs": [],
   "source": [
    "numbers = [1, 6, 2, 2, 7, 1, 6, 13, 99, 7]"
   ]
  },
  {
   "cell_type": "code",
   "execution_count": 108,
   "metadata": {},
   "outputs": [
    {
     "name": "stdout",
     "output_type": "stream",
     "text": [
      "[6, 2, 2, 6]\n"
     ]
    }
   ],
   "source": [
    "#Q4.1\n",
    "even_numbers = []\n",
    "\n",
    "for number in numbers:\n",
    "    if number % 2 == 0:\n",
    "        even_numbers.append(number)\n",
    "print(even_numbers)"
   ]
  },
  {
   "cell_type": "code",
   "execution_count": null,
   "metadata": {},
   "outputs": [],
   "source": [
    "#Q4.2\n",
    "difference = max(numbers) - min(numbers)\n",
    "print(difference)"
   ]
  },
  {
   "cell_type": "code",
   "execution_count": 111,
   "metadata": {},
   "outputs": [
    {
     "name": "stdout",
     "output_type": "stream",
     "text": [
      "True\n"
     ]
    }
   ],
   "source": [
    "#Q4.3\n",
    "for i in range(0, len(numbers) - 1):\n",
    "    if numbers[i] == numbers[i + 1] and numbers[i] == 2:\n",
    "        print(True)"
   ]
  },
  {
   "cell_type": "code",
   "execution_count": null,
   "metadata": {},
   "outputs": [],
   "source": [
    "#Q4.4 - not finished\n",
    "total = 0\n",
    "for number in range(0, len(numbers):\n",
    "               if number = 6:\n",
    "                    include = False\n",
    "                    total = "
   ]
  },
  {
   "cell_type": "markdown",
   "metadata": {},
   "source": [
    "QUESTION 5"
   ]
  },
  {
   "cell_type": "code",
   "execution_count": 59,
   "metadata": {},
   "outputs": [
    {
     "name": "stdout",
     "output_type": "stream",
     "text": [
      "Woo python\n"
     ]
    }
   ],
   "source": [
    "python_is_fun = True\n",
    "python_is_weird = False\n",
    "\n",
    "if python_is_fun == True or python_is_weird == True:\n",
    "    print(\"Woo python\")\n",
    "else:\n",
    "    print(\"Python is not for me\")"
   ]
  },
  {
   "cell_type": "markdown",
   "metadata": {},
   "source": [
    "QUESTION 6"
   ]
  },
  {
   "cell_type": "code",
   "execution_count": 1,
   "metadata": {},
   "outputs": [
    {
     "ename": "NameError",
     "evalue": "name 'total_eggs' is not defined",
     "output_type": "error",
     "traceback": [
      "\u001b[0;31m---------------------------------------------------------------------------\u001b[0m",
      "\u001b[0;31mNameError\u001b[0m                                 Traceback (most recent call last)",
      "\u001b[0;32m<ipython-input-1-e00d90a2aca9>\u001b[0m in \u001b[0;36m<module>\u001b[0;34m\u001b[0m\n\u001b[1;32m     10\u001b[0m     \u001b[0mtotal_eggs\u001b[0m \u001b[0;34m=\u001b[0m \u001b[0;36m0\u001b[0m\u001b[0;34m\u001b[0m\u001b[0;34m\u001b[0m\u001b[0m\n\u001b[1;32m     11\u001b[0m \u001b[0;32mfor\u001b[0m \u001b[0mchicken\u001b[0m \u001b[0;32min\u001b[0m \u001b[0mchicken\u001b[0m\u001b[0;34m:\u001b[0m\u001b[0;34m\u001b[0m\u001b[0;34m\u001b[0m\u001b[0m\n\u001b[0;32m---> 12\u001b[0;31m     \u001b[0mtotal_eggs\u001b[0m \u001b[0;34m+=\u001b[0m \u001b[0mchicken\u001b[0m\u001b[0;34m[\u001b[0m\u001b[0;34m\"eggs\"\u001b[0m\u001b[0;34m]\u001b[0m\u001b[0;34m\u001b[0m\u001b[0;34m\u001b[0m\u001b[0m\n\u001b[0m\u001b[1;32m     13\u001b[0m     \u001b[0mchicken\u001b[0m\u001b[0;34m[\u001b[0m\u001b[0;34m\"eggs\"\u001b[0m\u001b[0;34m]\u001b[0m \u001b[0;34m=\u001b[0m \u001b[0;36m0\u001b[0m \u001b[0;31m# eggs have been collected\u001b[0m\u001b[0;34m\u001b[0m\u001b[0;34m\u001b[0m\u001b[0m\n\u001b[1;32m     14\u001b[0m \u001b[0;34m\u001b[0m\u001b[0m\n",
      "\u001b[0;31mNameError\u001b[0m: name 'total_eggs' is not defined"
     ]
    }
   ],
   "source": [
    "chicken = [\n",
    "  { \"name\": \"Margaret\", \"age\": 2, \"eggs\": 0 },\n",
    "  { \"name\": \"Hetty\", \"age\": 1, \"eggs\": 2 },\n",
    "  { \"name\": \"Henrietta\", \"age\": 3, \"eggs\": 1 },\n",
    "  { \"name\": \"Audrey\", \"age\": 2, \"eggs\": 0 },\n",
    "  { \"name\": \"Mabel\", \"age\": 5, \"eggs\": 1 },\n",
    "]\n",
    "\n",
    "def count_eggs(chicken):\n",
    "    total_eggs = 0\n",
    "for chicken in chicken:\n",
    "    total_eggs += chicken[\"eggs\"]\n",
    "    chicken[\"eggs\"] = 0 # eggs have been collected\n",
    "\n",
    "    print(f\"{total_eggs} eggs collected\")\n",
    "\n",
    "count_eggs(chickens)"
   ]
  },
  {
   "cell_type": "markdown",
   "metadata": {},
   "source": [
    "EXTENSIONS"
   ]
  },
  {
   "cell_type": "markdown",
   "metadata": {},
   "source": [
    "QUESTION 1"
   ]
  },
  {
   "cell_type": "code",
   "execution_count": 77,
   "metadata": {},
   "outputs": [
    {
     "name": "stdout",
     "output_type": "stream",
     "text": [
      "Scotland\n",
      "Wales\n",
      "England\n",
      "Northern Ireland\n",
      "63179000\n"
     ]
    }
   ],
   "source": [
    "united_kingdom = [\n",
    "  {\n",
    "    \"name\": \"Scotland\",\n",
    "    \"population\": 5295000,\n",
    "    \"capital\": \"Edinburgh\"\n",
    "  },\n",
    "  {\n",
    "    \"name\": \"Wales\",\n",
    "    \"population\": 3063000,\n",
    "    \"capital\": \"Swansea\"\n",
    "  },\n",
    "  {\n",
    "    \"name\": \"England\",\n",
    "    \"population\": 53010000,\n",
    "    \"capital\": \"London\"\n",
    "  }\n",
    "]\n",
    "\n",
    "united_kingdom[1][\"capital\"] = \"Cardiff\"\n",
    "\n",
    "united_kingdom.append({\"name\": \"Northern Ireland\", \"population\" : 1811000, \"capital\": \"Belfast\"})\n",
    "\n",
    "for i in range(0, len(united_kingdom)):\n",
    "    print(united_kingdom[i][\"name\"])\n",
    "   \n",
    "total_population = 0\n",
    "for i in range(0, len(united_kingdom)):\n",
    "    total_population += united_kingdom[i][\"population\"]\n",
    "\n",
    "print(total_population)\n"
   ]
  },
  {
   "cell_type": "markdown",
   "metadata": {},
   "source": [
    "QUESTION 2"
   ]
  },
  {
   "cell_type": "code",
   "execution_count": 97,
   "metadata": {},
   "outputs": [],
   "source": [
    "users = {\n",
    "  \"Jonathan\": {\n",
    "    \"twitter\": \"jonnyt\",\n",
    "    \"lottery_numbers\": [6, 12, 49, 33, 45, 20],\n",
    "    \"home_town\": \"Stirling\",\n",
    "    \"pets\": [\n",
    "    {\n",
    "      \"name\": \"fluffy\",\n",
    "      \"species\": \"cat\"\n",
    "    },\n",
    "    {\n",
    "      \"name\": \"fido\",\n",
    "      \"species\": \"dog\"\n",
    "    },\n",
    "    {\n",
    "      \"name\": \"spike\",\n",
    "      \"species\": \"dog\"\n",
    "    }\n",
    "  ]\n",
    "  },\n",
    "  \"Erik\": {\n",
    "    \"twitter\": \"eriksf\",\n",
    "    \"lottery_numbers\": [18, 34, 8, 11, 24],\n",
    "    \"home_town\": \"Linlithgow\",\n",
    "    \"pets\": [\n",
    "    {\n",
    "      \"name\": \"nemo\",\n",
    "      \"species\": \"fish\"\n",
    "    },\n",
    "    {\n",
    "      \"name\": \"kevin\",\n",
    "      \"species\": \"fish\"\n",
    "    },\n",
    "    {\n",
    "      \"name\": \"spike\",\n",
    "      \"species\": \"dog\"\n",
    "    },\n",
    "    {\n",
    "      \"name\": \"rupert\",\n",
    "      \"species\": \"parrot\"\n",
    "    }\n",
    "  ]\n",
    "  },\n",
    "  \"Avril\": {\n",
    "    \"twitter\": \"bridgpally\",\n",
    "    \"lottery_numbers\": [12, 14, 33, 38, 9, 25],\n",
    "    \"home_town\": \"Dunbar\",\n",
    "    \"pets\": [\n",
    "      {\n",
    "        \"name\": \"monty\",\n",
    "        \"species\": \"snake\"\n",
    "      }\n",
    "    ]\n",
    "  }\n",
    "}"
   ]
  },
  {
   "cell_type": "code",
   "execution_count": 80,
   "metadata": {},
   "outputs": [
    {
     "data": {
      "text/plain": [
       "'jonnyt'"
      ]
     },
     "execution_count": 80,
     "metadata": {},
     "output_type": "execute_result"
    }
   ],
   "source": [
    "users[\"Jonathan\"][\"twitter\"]"
   ]
  },
  {
   "cell_type": "code",
   "execution_count": 81,
   "metadata": {},
   "outputs": [
    {
     "data": {
      "text/plain": [
       "'Linlithgow'"
      ]
     },
     "execution_count": 81,
     "metadata": {},
     "output_type": "execute_result"
    }
   ],
   "source": [
    "users[\"Erik\"][\"home_town\"]"
   ]
  },
  {
   "cell_type": "code",
   "execution_count": 82,
   "metadata": {},
   "outputs": [
    {
     "data": {
      "text/plain": [
       "[18, 34, 8, 11, 24]"
      ]
     },
     "execution_count": 82,
     "metadata": {},
     "output_type": "execute_result"
    }
   ],
   "source": [
    "users[\"Erik\"][\"lottery_numbers\"]"
   ]
  },
  {
   "cell_type": "code",
   "execution_count": 90,
   "metadata": {},
   "outputs": [
    {
     "ename": "TypeError",
     "evalue": "list indices must be integers or slices, not str",
     "output_type": "error",
     "traceback": [
      "\u001b[0;31m---------------------------------------------------------------------------\u001b[0m",
      "\u001b[0;31mTypeError\u001b[0m                                 Traceback (most recent call last)",
      "\u001b[0;32m<ipython-input-90-bda9d85a9ab9>\u001b[0m in \u001b[0;36m<module>\u001b[0;34m\u001b[0m\n\u001b[0;32m----> 1\u001b[0;31m \u001b[0musers\u001b[0m\u001b[0;34m[\u001b[0m\u001b[0;34m\"Avril\"\u001b[0m\u001b[0;34m]\u001b[0m\u001b[0;34m[\u001b[0m\u001b[0;34m\"pets\"\u001b[0m\u001b[0;34m]\u001b[0m\u001b[0;34m[\u001b[0m\u001b[0;34m\"species\"\u001b[0m\u001b[0;34m]\u001b[0m\u001b[0;34m\u001b[0m\u001b[0;34m\u001b[0m\u001b[0m\n\u001b[0m",
      "\u001b[0;31mTypeError\u001b[0m: list indices must be integers or slices, not str"
     ]
    }
   ],
   "source": [
    "####### Not working\n",
    "users[\"Avril\"][\"pets\"][\"species\"]\n"
   ]
  },
  {
   "cell_type": "code",
   "execution_count": 91,
   "metadata": {},
   "outputs": [
    {
     "data": {
      "text/plain": [
       "8"
      ]
     },
     "execution_count": 91,
     "metadata": {},
     "output_type": "execute_result"
    }
   ],
   "source": [
    "min(users[\"Erik\"][\"lottery_numbers\"])"
   ]
  },
  {
   "cell_type": "code",
   "execution_count": 93,
   "metadata": {},
   "outputs": [
    {
     "data": {
      "text/plain": [
       "[12, 14, 38]"
      ]
     },
     "execution_count": 93,
     "metadata": {},
     "output_type": "execute_result"
    }
   ],
   "source": [
    "even_numbers = []\n",
    "\n",
    "for number in users[\"Avril\"][\"lottery_numbers\"]:\n",
    "    if number % 2 == 0:\n",
    "        even_numbers.append(number)\n",
    "        \n",
    "even_numbers"
   ]
  },
  {
   "cell_type": "code",
   "execution_count": 98,
   "metadata": {},
   "outputs": [
    {
     "data": {
      "text/plain": [
       "[18, 34, 8, 11, 24, 7]"
      ]
     },
     "execution_count": 98,
     "metadata": {},
     "output_type": "execute_result"
    }
   ],
   "source": [
    "users[\"Erik\"][\"lottery_numbers\"].append(7)\n",
    "users[\"Erik\"][\"lottery_numbers\"]"
   ]
  },
  {
   "cell_type": "code",
   "execution_count": 100,
   "metadata": {},
   "outputs": [
    {
     "data": {
      "text/plain": [
       "'Edinburgh'"
      ]
     },
     "execution_count": 100,
     "metadata": {},
     "output_type": "execute_result"
    }
   ],
   "source": [
    "users[\"Erik\"][\"home_town\"] = \"Edinburgh\"\n",
    "users[\"Erik\"][\"home_town\"] "
   ]
  },
  {
   "cell_type": "code",
   "execution_count": 106,
   "metadata": {},
   "outputs": [],
   "source": [
    "users[\"Erik\"][\"pets\"] = {\"name\" : \"Fluffy\", \"species\" : \"dog\"}"
   ]
  },
  {
   "cell_type": "code",
   "execution_count": 107,
   "metadata": {},
   "outputs": [
    {
     "data": {
      "text/plain": [
       "{'Jonathan': {'twitter': 'jonnyt',\n",
       "  'lottery_numbers': [6, 12, 49, 33, 45, 20],\n",
       "  'home_town': 'Stirling',\n",
       "  'pets': [{'name': 'fluffy', 'species': 'cat'},\n",
       "   {'name': 'fido', 'species': 'dog'},\n",
       "   {'name': 'spike', 'species': 'dog'}]},\n",
       " 'Erik': {'twitter': 'eriksf',\n",
       "  'lottery_numbers': [18, 34, 8, 11, 24, 7],\n",
       "  'home_town': 'Edinburgh',\n",
       "  'pets': {'name': 'Fluffy', 'species': 'dog'}},\n",
       " 'Avril': {'twitter': 'bridgpally',\n",
       "  'lottery_numbers': [12, 14, 33, 38, 9, 25],\n",
       "  'home_town': 'Dunbar',\n",
       "  'pets': [{'name': 'monty', 'species': 'snake'}]},\n",
       " 'John': {'twitter': 'jww2020',\n",
       "  'home_town': 'Glasgow',\n",
       "  'pets': [{'name': 'Angus', 'species': 'dog'}]}}"
      ]
     },
     "execution_count": 107,
     "metadata": {},
     "output_type": "execute_result"
    }
   ],
   "source": [
    "users"
   ]
  },
  {
   "cell_type": "code",
   "execution_count": 104,
   "metadata": {},
   "outputs": [
    {
     "data": {
      "text/plain": [
       "{'Jonathan': {'twitter': 'jonnyt',\n",
       "  'lottery_numbers': [6, 12, 49, 33, 45, 20],\n",
       "  'home_town': 'Stirling',\n",
       "  'pets': [{'name': 'fluffy', 'species': 'cat'},\n",
       "   {'name': 'fido', 'species': 'dog'},\n",
       "   {'name': 'spike', 'species': 'dog'}]},\n",
       " 'Erik': {'twitter': 'eriksf',\n",
       "  'lottery_numbers': [18, 34, 8, 11, 24, 7],\n",
       "  'home_town': 'Edinburgh',\n",
       "  'pets': [{'name': 'nemo', 'species': 'fish'},\n",
       "   {'name': 'kevin', 'species': 'fish'},\n",
       "   {'name': 'spike', 'species': 'dog'},\n",
       "   {'name': 'rupert', 'species': 'parrot'}]},\n",
       " 'Avril': {'twitter': 'bridgpally',\n",
       "  'lottery_numbers': [12, 14, 33, 38, 9, 25],\n",
       "  'home_town': 'Dunbar',\n",
       "  'pets': [{'name': 'monty', 'species': 'snake'}]},\n",
       " 'John': {'twitter': 'jww2020',\n",
       "  'home_town': 'Glasgow',\n",
       "  'pets': [{'name': 'Angus', 'species': 'dog'}]}}"
      ]
     },
     "execution_count": 104,
     "metadata": {},
     "output_type": "execute_result"
    }
   ],
   "source": [
    "users[\"John\"] = {\"twitter\" : \"jww2020\",\n",
    "                \"home_town\" : \"Glasgow\",\n",
    "                \"pets\" : [{'name' : \"Angus\", \"species\" : \"dog\"}]}\n",
    "\n",
    "users"
   ]
  },
  {
   "cell_type": "code",
   "execution_count": null,
   "metadata": {},
   "outputs": [],
   "source": []
  }
 ],
 "metadata": {
  "kernelspec": {
   "display_name": "Python 3",
   "language": "python",
   "name": "python3"
  },
  "language_info": {
   "codemirror_mode": {
    "name": "ipython",
    "version": 3
   },
   "file_extension": ".py",
   "mimetype": "text/x-python",
   "name": "python",
   "nbconvert_exporter": "python",
   "pygments_lexer": "ipython3",
   "version": "3.8.5"
  }
 },
 "nbformat": 4,
 "nbformat_minor": 4
}
